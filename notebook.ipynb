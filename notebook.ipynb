{
 "cells": [
  {
   "cell_type": "code",
   "execution_count": 2,
   "metadata": {},
   "outputs": [
    {
     "ename": "ModuleNotFoundError",
     "evalue": "No module named 'pandas'",
     "output_type": "error",
     "traceback": [
      "\u001b[1;31m---------------------------------------------------------------------------\u001b[0m",
      "\u001b[1;31mModuleNotFoundError\u001b[0m                       Traceback (most recent call last)",
      "Cell \u001b[1;32mIn[2], line 4\u001b[0m\n\u001b[0;32m      1\u001b[0m \u001b[38;5;66;03m#\u001b[39;00m\n\u001b[0;32m      2\u001b[0m \u001b[38;5;66;03m# Carga del dataset\u001b[39;00m\n\u001b[0;32m      3\u001b[0m \u001b[38;5;66;03m#\u001b[39;00m\n\u001b[1;32m----> 4\u001b[0m \u001b[38;5;28;01mimport\u001b[39;00m \u001b[38;5;21;01mpandas\u001b[39;00m \u001b[38;5;28;01mas\u001b[39;00m \u001b[38;5;21;01mpd\u001b[39;00m\n\u001b[0;32m      6\u001b[0m dataframe \u001b[38;5;241m=\u001b[39m pd\u001b[38;5;241m.\u001b[39mread_csv(\n\u001b[0;32m      7\u001b[0m     \u001b[38;5;124m\"\u001b[39m\u001b[38;5;124msentences.csv.zip\u001b[39m\u001b[38;5;124m\"\u001b[39m,\n\u001b[0;32m      8\u001b[0m     index_col\u001b[38;5;241m=\u001b[39m\u001b[38;5;28;01mFalse\u001b[39;00m,\n\u001b[0;32m      9\u001b[0m     compression\u001b[38;5;241m=\u001b[39m\u001b[38;5;124m\"\u001b[39m\u001b[38;5;124mzip\u001b[39m\u001b[38;5;124m\"\u001b[39m,\n\u001b[0;32m     10\u001b[0m )\n",
      "\u001b[1;31mModuleNotFoundError\u001b[0m: No module named 'pandas'"
     ]
    }
   ],
   "source": [
    "\n",
    "#\n",
    "# Carga del dataset\n",
    "#\n",
    "import pandas as pd\n",
    "\n",
    "dataframe = pd.read_csv(\n",
    "    \"sentences.csv.zip\",\n",
    "    index_col=False,\n",
    "    compression=\"zip\",\n",
    ")"
   ]
  },
  {
   "cell_type": "code",
   "execution_count": null,
   "metadata": {},
   "outputs": [
    {
     "ename": "NameError",
     "evalue": "name 'dataframe' is not defined",
     "output_type": "error",
     "traceback": [
      "\u001b[1;31m---------------------------------------------------------------------------\u001b[0m",
      "\u001b[1;31mNameError\u001b[0m                                 Traceback (most recent call last)",
      "Cell \u001b[1;32mIn[8], line 4\u001b[0m\n\u001b[0;32m      1\u001b[0m \u001b[38;5;66;03m#\u001b[39;00m\n\u001b[0;32m      2\u001b[0m \u001b[38;5;66;03m# Exploración de los datos\u001b[39;00m\n\u001b[0;32m      3\u001b[0m \u001b[38;5;66;03m#\u001b[39;00m\n\u001b[1;32m----> 4\u001b[0m \u001b[43mdataframe\u001b[49m\u001b[38;5;241m.\u001b[39mshape\n",
      "\u001b[1;31mNameError\u001b[0m: name 'dataframe' is not defined"
     ]
    }
   ],
   "source": [
    "#\n",
    "# Exploración de los datos\n",
    "#\n",
    "dataframe.shape"
   ]
  },
  {
   "cell_type": "code",
   "execution_count": null,
   "metadata": {},
   "outputs": [],
   "source": [
    "#\n",
    "# Data\n",
    "#\n",
    "dataframe.head()\n",
    "\n",
    "#\n",
    "# Sentimientos (clases)\n",
    "#\n",
    "dataframe.target.value_counts()\n"
   ]
  },
  {
   "cell_type": "code",
   "execution_count": null,
   "metadata": {},
   "outputs": [],
   "source": [
    "#\n",
    "# Ejemplos de frases positivas\n",
    "#\n",
    "for i in range(5):\n",
    "    print(dataframe[dataframe.target == \"positive\"][\"phrase\"].iloc[i])\n",
    "    "
   ]
  },
  {
   "cell_type": "code",
   "execution_count": null,
   "metadata": {},
   "outputs": [],
   "source": [
    "#\n",
    "# Ejemplos de frases negativas\n",
    "#\n",
    "for i in range(5):\n",
    "    print(dataframe[dataframe.target == \"negative\"][\"phrase\"].iloc[i])"
   ]
  },
  {
   "cell_type": "code",
   "execution_count": null,
   "metadata": {},
   "outputs": [],
   "source": [
    "#\n",
    "# Ejemplos de frases neutras\n",
    "#\n",
    "for i in range(5):\n",
    "    print(dataframe[dataframe.target == \"neutral\"][\"phrase\"].iloc[i])\n"
   ]
  },
  {
   "cell_type": "code",
   "execution_count": null,
   "metadata": {},
   "outputs": [],
   "source": [
    "#\n",
    "# Particionamiento de datos\n",
    "#\n",
    "from sklearn.model_selection import train_test_split\n",
    "\n",
    "X_train, X_test, y_train, y_test = train_test_split(\n",
    "    dataframe.phrase,\n",
    "    dataframe.target,\n",
    "    test_size=0.3,\n",
    "    shuffle=False,\n",
    ")"
   ]
  },
  {
   "cell_type": "code",
   "execution_count": null,
   "metadata": {},
   "outputs": [],
   "source": [
    "#\n",
    "# Preprocesamiento de texto\n",
    "#\n",
    "from sklearn.feature_extraction.text import CountVectorizer\n",
    "\n",
    "vectorizer = CountVectorizer(\n",
    "    lowercase=True,\n",
    "    analyzer=\"word\",\n",
    "    token_pattern=r\"\\b[a-zA-Z]\\w+\\b\",\n",
    "    stop_words=\"english\",\n",
    "    max_df=0.99,\n",
    "    min_df=2,\n",
    "    binary=True,\n",
    ")\n",
    "vectorizer.fit(X_train)"
   ]
  },
  {
   "cell_type": "code",
   "execution_count": null,
   "metadata": {},
   "outputs": [],
   "source": [
    "#\n",
    "# Columnas de la matriz documento-termino\n",
    "#\n",
    "vectorizer.get_feature_names_out()"
   ]
  },
  {
   "cell_type": "code",
   "execution_count": null,
   "metadata": {},
   "outputs": [],
   "source": [
    "#\n",
    "# Especificación del model\n",
    "#\n",
    "from sklearn.linear_model import LogisticRegression\n",
    "\n",
    "clf = LogisticRegression(max_iter=1000)\n",
    "clf\n"
   ]
  },
  {
   "cell_type": "code",
   "execution_count": null,
   "metadata": {},
   "outputs": [],
   "source": [
    "#\n",
    "# Entrenamiento del modelo\n",
    "#\n",
    "\n",
    "X_train_vectorized = vectorizer.transform(X_train)\n",
    "\n",
    "clf.fit(\n",
    "    X_train_vectorized,\n",
    "    y_train,\n",
    ")"
   ]
  },
  {
   "cell_type": "code",
   "execution_count": null,
   "metadata": {},
   "outputs": [],
   "source": [
    "#\n",
    "# Evaluación de la precisión del modelo\n",
    "#\n",
    "from sklearn.metrics import accuracy_score\n",
    "\n",
    "#\n",
    "# Muestra de entrenamiento\n",
    "#\n",
    "accuracy_score(\n",
    "    y_true=y_train,\n",
    "    y_pred=clf.predict(X_train_vectorized),\n",
    ")\n"
   ]
  },
  {
   "cell_type": "code",
   "execution_count": null,
   "metadata": {},
   "outputs": [],
   "source": [
    "#\n",
    "# Muestra de prueba\n",
    "#\n",
    "X_test_vectorized = vectorizer.transform(X_test)\n",
    "predictions = clf.predict(X_test_vectorized)\n",
    "\n",
    "accuracy_score(\n",
    "    y_true=y_test,\n",
    "    y_pred=predictions,\n",
    ")\n"
   ]
  },
  {
   "cell_type": "code",
   "execution_count": null,
   "metadata": {},
   "outputs": [],
   "source": [
    "#\n",
    "# Matriz de confusión\n",
    "#\n",
    "from sklearn.metrics import ConfusionMatrixDisplay\n",
    "\n",
    "disp = ConfusionMatrixDisplay.from_predictions(\n",
    "    y_test,\n",
    "    predictions,\n",
    "    cmap=\"Greens\",\n",
    ")\n",
    "disp.figure_.suptitle(\"Confusion Matrix\")\n",
    "print(f\"Confusion matrix:\\n{disp.confusion_matrix}\")\n"
   ]
  },
  {
   "cell_type": "code",
   "execution_count": null,
   "metadata": {},
   "outputs": [],
   "source": [
    "#\n",
    "# Almacenamiento del modelo\n",
    "#\n",
    "import pickle\n",
    "\n",
    "with open(\"clf.pickle\", \"wb\") as file:\n",
    "    pickle.dump(clf, file)\n",
    "\n",
    "with open(\"vectorizer.pickle\", \"wb\") as file:\n",
    "    pickle.dump(vectorizer, file)\n",
    "    "
   ]
  },
  {
   "cell_type": "code",
   "execution_count": null,
   "metadata": {},
   "outputs": [],
   "source": [
    "#\n",
    "# Uso del modelo\n",
    "#\n",
    "with open(\"clf.pickle\", \"rb\") as file:\n",
    "    new_clf = pickle.load(file)\n",
    "\n",
    "with open(\"vectorizer.pickle\", \"rb\") as file:\n",
    "    new_vectorizer = pickle.load(file)\n",
    "\n",
    "accuracy_score(\n",
    "    y_true=dataframe.target,\n",
    "    y_pred=new_clf.predict(new_vectorizer.transform(dataframe.phrase)),\n",
    ")\n"
   ]
  }
 ],
 "metadata": {
  "language_info": {
   "name": "python"
  }
 },
 "nbformat": 4,
 "nbformat_minor": 2
}
